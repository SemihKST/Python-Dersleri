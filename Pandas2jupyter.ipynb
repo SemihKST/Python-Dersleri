{
 "cells": [
  {
   "cell_type": "code",
   "execution_count": 2,
   "id": "cda88e47-a8eb-418d-8a6f-8cd716552410",
   "metadata": {},
   "outputs": [
    {
     "name": "stdout",
     "output_type": "stream",
     "text": [
      "Requirement already satisfied: pandas in d:\\anaconda\\lib\\site-packages (2.1.4)\n",
      "Requirement already satisfied: numpy<2,>=1.23.2 in d:\\anaconda\\lib\\site-packages (from pandas) (1.26.4)\n",
      "Requirement already satisfied: python-dateutil>=2.8.2 in d:\\anaconda\\lib\\site-packages (from pandas) (2.8.2)\n",
      "Requirement already satisfied: pytz>=2020.1 in d:\\anaconda\\lib\\site-packages (from pandas) (2023.3.post1)\n",
      "Requirement already satisfied: tzdata>=2022.1 in d:\\anaconda\\lib\\site-packages (from pandas) (2023.3)\n",
      "Requirement already satisfied: six>=1.5 in d:\\anaconda\\lib\\site-packages (from python-dateutil>=2.8.2->pandas) (1.16.0)\n",
      "Note: you may need to restart the kernel to use updated packages.\n"
     ]
    }
   ],
   "source": [
    "pip install pandas"
   ]
  },
  {
   "cell_type": "code",
   "execution_count": 3,
   "id": "002f0361-ae33-42da-9662-cddbff47959f",
   "metadata": {},
   "outputs": [],
   "source": [
    "import pandas as pd\n",
    "import numpy as np"
   ]
  },
  {
   "cell_type": "code",
   "execution_count": 4,
   "id": "a082b9e9-e7ba-44f3-8351-6e274cf03e90",
   "metadata": {},
   "outputs": [
    {
     "data": {
      "text/plain": [
       "0    50\n",
       "1    55\n",
       "2    45\n",
       "3    80\n",
       "4    85\n",
       "dtype: int64"
      ]
     },
     "execution_count": 4,
     "metadata": {},
     "output_type": "execute_result"
    }
   ],
   "source": [
    "# Liste şeklinde tanımlama ==> (List shaped definition)\n",
    "seri_notlar = pd.Series([50,55,45,80,85])\n",
    "seri_notlar"
   ]
  },
  {
   "cell_type": "code",
   "execution_count": 5,
   "id": "2e312efa-494f-4106-ae93-d89e81ad964c",
   "metadata": {},
   "outputs": [
    {
     "data": {
      "text/plain": [
       "3010    50\n",
       "3011    55\n",
       "3012    45\n",
       "3013    80\n",
       "3012    85\n",
       "dtype: int64"
      ]
     },
     "execution_count": 5,
     "metadata": {},
     "output_type": "execute_result"
    }
   ],
   "source": [
    "seri_notlar.index = [\"3010\",\"3011\",\"3012\",\"3013\",\"3012\"]\n",
    "seri_notlar"
   ]
  },
  {
   "cell_type": "code",
   "execution_count": 6,
   "id": "36817838-403c-4e67-92c8-0f0a52c5faab",
   "metadata": {},
   "outputs": [
    {
     "data": {
      "text/plain": [
       "pandas.core.series.Series"
      ]
     },
     "execution_count": 6,
     "metadata": {},
     "output_type": "execute_result"
    }
   ],
   "source": [
    "type(seri_notlar)"
   ]
  },
  {
   "cell_type": "code",
   "execution_count": 7,
   "id": "69789039-2ab6-4a46-ad04-9c0856cbf00b",
   "metadata": {},
   "outputs": [
    {
     "name": "stdout",
     "output_type": "stream",
     "text": [
      "Kaldı (Stayed) \n",
      "Geçti (Passed) \n",
      "Kaldı (Stayed) \n",
      "Geçti (Passed) \n",
      "Geçti (Passed) \n"
     ]
    }
   ],
   "source": [
    "for i in seri_notlar.values:\n",
    "    if i > 50:\n",
    "        print(\"Geçti (Passed) \")\n",
    "    else:\n",
    "        print(\"Kaldı (Stayed) \")"
   ]
  },
  {
   "cell_type": "code",
   "execution_count": 8,
   "id": "798133ca-e867-41db-9dbc-333c6e66c771",
   "metadata": {},
   "outputs": [
    {
     "data": {
      "text/plain": [
       "3015    80\n",
       "3016    70\n",
       "3017    52\n",
       "3018    25\n",
       "3019    45\n",
       "dtype: int64"
      ]
     },
     "execution_count": 8,
     "metadata": {},
     "output_type": "execute_result"
    }
   ],
   "source": [
    "#Dictionary olarak Series tanımlama ==> (Defining Series as Dictionary)\n",
    "seri_final = pd.Series({'3015':80,'3016':70,'3017':52,'3018':25,'3019':45})\n",
    "seri_final"
   ]
  },
  {
   "cell_type": "code",
   "execution_count": 9,
   "id": "24005aa7-1ddf-4bdf-a800-d17a1039e305",
   "metadata": {},
   "outputs": [
    {
     "data": {
      "text/plain": [
       "array([80, 70, 52, 25, 45], dtype=int64)"
      ]
     },
     "execution_count": 9,
     "metadata": {},
     "output_type": "execute_result"
    }
   ],
   "source": [
    "seri_final.values"
   ]
  },
  {
   "cell_type": "code",
   "execution_count": 12,
   "id": "41872de2-9562-434d-adbc-db7427407290",
   "metadata": {},
   "outputs": [
    {
     "data": {
      "text/plain": [
       "array([65. , 62.5, 48.5, 52.5, 65. ])"
      ]
     },
     "execution_count": 12,
     "metadata": {},
     "output_type": "execute_result"
    }
   ],
   "source": [
    "#Örnek\n",
    "# Vize notları ile final notlarını toplayıp, ikiye bölün.\n",
    "# Elde ettiğiniz değerleri, yeni bir seriye aktarın\n",
    "\n",
    "#example\n",
    "#Add the midterm grades and final grades and divide by two.\n",
    "#Transfer the values you obtained to a new series.\n",
    "\n",
    "son_not = (seri_notlar.values + seri_final.values) / 2\n",
    "son_not\n",
    "\n"
   ]
  },
  {
   "cell_type": "code",
   "execution_count": 15,
   "id": "edc7e2e4-e739-4755-a4e5-f0e7edbf771f",
   "metadata": {},
   "outputs": [
    {
     "data": {
      "text/plain": [
       "Öğrenci_1 (student_1)     65.0\n",
       "Öğrenci_2 (student_2)     62.5\n",
       "Öğrenci_3 (student_3)     48.5\n",
       "Öğrenci_4 (student_4)     52.5\n",
       "Öğrenci_5 (student_5)     65.0\n",
       "dtype: float64"
      ]
     },
     "execution_count": 15,
     "metadata": {},
     "output_type": "execute_result"
    }
   ],
   "source": [
    "seri_son_not = pd.Series(son_not,index=[\"Öğrenci_1 (student_1)\",\"Öğrenci_2 (student_2)\",\"Öğrenci_3 (student_3) \" ,\"Öğrenci_4 (student_4) \",\"Öğrenci_5 (student_5) \",])\n",
    "seri_son_not"
   ]
  },
  {
   "cell_type": "code",
   "execution_count": 16,
   "id": "75c904d4-5e4d-4cd5-9227-2b7fecc59fff",
   "metadata": {},
   "outputs": [
    {
     "name": "stdout",
     "output_type": "stream",
     "text": [
      "Geçti (Passed)\n",
      "Geçti (Passed)\n",
      "Kaldı (Stayed) \n",
      "Geçti (Passed)\n",
      "Geçti (Passed)\n"
     ]
    }
   ],
   "source": [
    "for i in seri_son_not.values:\n",
    "    if i > 50:\n",
    "        print(\"Geçti (Passed)\")\n",
    "    else:\n",
    "        print(\"Kaldı (Stayed) \")"
   ]
  },
  {
   "cell_type": "code",
   "execution_count": 17,
   "id": "e11f0552-ea20-4314-afba-1edd8d6a8acc",
   "metadata": {},
   "outputs": [
    {
     "data": {
      "text/plain": [
       "3010    50\n",
       "3011    55\n",
       "3012    45\n",
       "3013    80\n",
       "3012    85\n",
       "3015    80\n",
       "3016    70\n",
       "3017    52\n",
       "3018    25\n",
       "3019    45\n",
       "dtype: int64"
      ]
     },
     "execution_count": 17,
     "metadata": {},
     "output_type": "execute_result"
    }
   ],
   "source": [
    "# vize notları ile final notlarını tek bir seride birleştirme ==> (Combining midterm grades and final grades into a single series)\n",
    "\n",
    "birlesik_notlar = pd.concat([seri_notlar,seri_final])\n",
    "birlesik_notlar"
   ]
  },
  {
   "cell_type": "code",
   "execution_count": 18,
   "id": "85766669-ac09-446b-8b3d-2d5903503893",
   "metadata": {},
   "outputs": [
    {
     "data": {
      "text/html": [
       "<div>\n",
       "<style scoped>\n",
       "    .dataframe tbody tr th:only-of-type {\n",
       "        vertical-align: middle;\n",
       "    }\n",
       "\n",
       "    .dataframe tbody tr th {\n",
       "        vertical-align: top;\n",
       "    }\n",
       "\n",
       "    .dataframe thead th {\n",
       "        text-align: right;\n",
       "    }\n",
       "</style>\n",
       "<table border=\"1\" class=\"dataframe\">\n",
       "  <thead>\n",
       "    <tr style=\"text-align: right;\">\n",
       "      <th></th>\n",
       "      <th>0</th>\n",
       "    </tr>\n",
       "  </thead>\n",
       "  <tbody>\n",
       "    <tr>\n",
       "      <th>0</th>\n",
       "      <td>80</td>\n",
       "    </tr>\n",
       "    <tr>\n",
       "      <th>1</th>\n",
       "      <td>85</td>\n",
       "    </tr>\n",
       "    <tr>\n",
       "      <th>2</th>\n",
       "      <td>70</td>\n",
       "    </tr>\n",
       "    <tr>\n",
       "      <th>3</th>\n",
       "      <td>65</td>\n",
       "    </tr>\n",
       "    <tr>\n",
       "      <th>4</th>\n",
       "      <td>50</td>\n",
       "    </tr>\n",
       "    <tr>\n",
       "      <th>5</th>\n",
       "      <td>45</td>\n",
       "    </tr>\n",
       "    <tr>\n",
       "      <th>6</th>\n",
       "      <td>30</td>\n",
       "    </tr>\n",
       "  </tbody>\n",
       "</table>\n",
       "</div>"
      ],
      "text/plain": [
       "    0\n",
       "0  80\n",
       "1  85\n",
       "2  70\n",
       "3  65\n",
       "4  50\n",
       "5  45\n",
       "6  30"
      ]
     },
     "execution_count": 18,
     "metadata": {},
     "output_type": "execute_result"
    }
   ],
   "source": [
    "# DataFrame\n",
    "# DataFrame, tamamen tablo mantığına göre çalışır. ==> (DataFrame works entirely according to table logic.)\n",
    "# Series'den en önemli farkı, birden fazla sütun değerinin olmasıdır (Tablo gibi) ==> (The most important difference in Series is that it has more than one column value (like a table).)\n",
    "\n",
    "# ilk DataFrame tanımlama ==> (First DataFrame)\n",
    "my_df1 = pd.DataFrame([80,85,70,65,50,45,30])\n",
    "my_df1\n"
   ]
  },
  {
   "cell_type": "code",
   "execution_count": 19,
   "id": "dd136857-76e9-4dd4-aae1-56620499c6aa",
   "metadata": {},
   "outputs": [
    {
     "data": {
      "text/html": [
       "<div>\n",
       "<style scoped>\n",
       "    .dataframe tbody tr th:only-of-type {\n",
       "        vertical-align: middle;\n",
       "    }\n",
       "\n",
       "    .dataframe tbody tr th {\n",
       "        vertical-align: top;\n",
       "    }\n",
       "\n",
       "    .dataframe thead th {\n",
       "        text-align: right;\n",
       "    }\n",
       "</style>\n",
       "<table border=\"1\" class=\"dataframe\">\n",
       "  <thead>\n",
       "    <tr style=\"text-align: right;\">\n",
       "      <th></th>\n",
       "      <th>0</th>\n",
       "    </tr>\n",
       "  </thead>\n",
       "  <tbody>\n",
       "    <tr>\n",
       "      <th>Ogr_1</th>\n",
       "      <td>80</td>\n",
       "    </tr>\n",
       "    <tr>\n",
       "      <th>Ogr_2</th>\n",
       "      <td>85</td>\n",
       "    </tr>\n",
       "    <tr>\n",
       "      <th>Ogr_3</th>\n",
       "      <td>70</td>\n",
       "    </tr>\n",
       "    <tr>\n",
       "      <th>Ogr_4</th>\n",
       "      <td>65</td>\n",
       "    </tr>\n",
       "    <tr>\n",
       "      <th>Ogr_5</th>\n",
       "      <td>50</td>\n",
       "    </tr>\n",
       "    <tr>\n",
       "      <th>Ogr_6</th>\n",
       "      <td>45</td>\n",
       "    </tr>\n",
       "    <tr>\n",
       "      <th>Ogr_7</th>\n",
       "      <td>30</td>\n",
       "    </tr>\n",
       "  </tbody>\n",
       "</table>\n",
       "</div>"
      ],
      "text/plain": [
       "        0\n",
       "Ogr_1  80\n",
       "Ogr_2  85\n",
       "Ogr_3  70\n",
       "Ogr_4  65\n",
       "Ogr_5  50\n",
       "Ogr_6  45\n",
       "Ogr_7  30"
      ]
     },
     "execution_count": 19,
     "metadata": {},
     "output_type": "execute_result"
    }
   ],
   "source": [
    "my_df1.index = [\"Ogr_1\",\"Ogr_2\",\"Ogr_3\",\"Ogr_4\",\"Ogr_5\",\"Ogr_6\",\"Ogr_7\",]\n",
    "my_df1"
   ]
  },
  {
   "cell_type": "code",
   "execution_count": 20,
   "id": "efad1d32-90f3-477f-85f9-4ff9aa823af1",
   "metadata": {},
   "outputs": [
    {
     "data": {
      "text/html": [
       "<div>\n",
       "<style scoped>\n",
       "    .dataframe tbody tr th:only-of-type {\n",
       "        vertical-align: middle;\n",
       "    }\n",
       "\n",
       "    .dataframe tbody tr th {\n",
       "        vertical-align: top;\n",
       "    }\n",
       "\n",
       "    .dataframe thead th {\n",
       "        text-align: right;\n",
       "    }\n",
       "</style>\n",
       "<table border=\"1\" class=\"dataframe\">\n",
       "  <thead>\n",
       "    <tr style=\"text-align: right;\">\n",
       "      <th></th>\n",
       "      <th>Notlar</th>\n",
       "    </tr>\n",
       "  </thead>\n",
       "  <tbody>\n",
       "    <tr>\n",
       "      <th>Ogr_1</th>\n",
       "      <td>80</td>\n",
       "    </tr>\n",
       "    <tr>\n",
       "      <th>Ogr_2</th>\n",
       "      <td>85</td>\n",
       "    </tr>\n",
       "    <tr>\n",
       "      <th>Ogr_3</th>\n",
       "      <td>70</td>\n",
       "    </tr>\n",
       "    <tr>\n",
       "      <th>Ogr_4</th>\n",
       "      <td>65</td>\n",
       "    </tr>\n",
       "    <tr>\n",
       "      <th>Ogr_5</th>\n",
       "      <td>50</td>\n",
       "    </tr>\n",
       "    <tr>\n",
       "      <th>Ogr_6</th>\n",
       "      <td>45</td>\n",
       "    </tr>\n",
       "    <tr>\n",
       "      <th>Ogr_7</th>\n",
       "      <td>30</td>\n",
       "    </tr>\n",
       "  </tbody>\n",
       "</table>\n",
       "</div>"
      ],
      "text/plain": [
       "       Notlar\n",
       "Ogr_1      80\n",
       "Ogr_2      85\n",
       "Ogr_3      70\n",
       "Ogr_4      65\n",
       "Ogr_5      50\n",
       "Ogr_6      45\n",
       "Ogr_7      30"
      ]
     },
     "execution_count": 20,
     "metadata": {},
     "output_type": "execute_result"
    }
   ],
   "source": [
    "my_df1.columns = [\"Notlar\"]\n",
    "my_df1"
   ]
  },
  {
   "cell_type": "code",
   "execution_count": 21,
   "id": "71abe60d-542f-4124-a9f4-e4eac37d62d3",
   "metadata": {},
   "outputs": [
    {
     "data": {
      "text/html": [
       "<div>\n",
       "<style scoped>\n",
       "    .dataframe tbody tr th:only-of-type {\n",
       "        vertical-align: middle;\n",
       "    }\n",
       "\n",
       "    .dataframe tbody tr th {\n",
       "        vertical-align: top;\n",
       "    }\n",
       "\n",
       "    .dataframe thead th {\n",
       "        text-align: right;\n",
       "    }\n",
       "</style>\n",
       "<table border=\"1\" class=\"dataframe\">\n",
       "  <thead>\n",
       "    <tr style=\"text-align: right;\">\n",
       "      <th></th>\n",
       "      <th>Vize</th>\n",
       "      <th>Final</th>\n",
       "      <th>Geçme Notu</th>\n",
       "    </tr>\n",
       "  </thead>\n",
       "  <tbody>\n",
       "    <tr>\n",
       "      <th>0</th>\n",
       "      <td>50</td>\n",
       "      <td>80</td>\n",
       "      <td>65.0</td>\n",
       "    </tr>\n",
       "    <tr>\n",
       "      <th>1</th>\n",
       "      <td>55</td>\n",
       "      <td>70</td>\n",
       "      <td>62.5</td>\n",
       "    </tr>\n",
       "    <tr>\n",
       "      <th>2</th>\n",
       "      <td>45</td>\n",
       "      <td>52</td>\n",
       "      <td>48.5</td>\n",
       "    </tr>\n",
       "    <tr>\n",
       "      <th>3</th>\n",
       "      <td>80</td>\n",
       "      <td>25</td>\n",
       "      <td>52.5</td>\n",
       "    </tr>\n",
       "    <tr>\n",
       "      <th>4</th>\n",
       "      <td>85</td>\n",
       "      <td>45</td>\n",
       "      <td>65.0</td>\n",
       "    </tr>\n",
       "  </tbody>\n",
       "</table>\n",
       "</div>"
      ],
      "text/plain": [
       "   Vize  Final  Geçme Notu\n",
       "0    50     80        65.0\n",
       "1    55     70        62.5\n",
       "2    45     52        48.5\n",
       "3    80     25        52.5\n",
       "4    85     45        65.0"
      ]
     },
     "execution_count": 21,
     "metadata": {},
     "output_type": "execute_result"
    }
   ],
   "source": [
    "my_dict_1 = {'Vize':seri_notlar.values,'Final':seri_final.values,'Geçme Notu':seri_son_not.values}\n",
    "my_df2 = pd.DataFrame(my_dict_1)\n",
    "my_df2"
   ]
  },
  {
   "cell_type": "code",
   "execution_count": 22,
   "id": "873fa2c5-d381-4577-99fd-40e47b6da957",
   "metadata": {},
   "outputs": [
    {
     "data": {
      "text/html": [
       "<div>\n",
       "<style scoped>\n",
       "    .dataframe tbody tr th:only-of-type {\n",
       "        vertical-align: middle;\n",
       "    }\n",
       "\n",
       "    .dataframe tbody tr th {\n",
       "        vertical-align: top;\n",
       "    }\n",
       "\n",
       "    .dataframe thead th {\n",
       "        text-align: right;\n",
       "    }\n",
       "</style>\n",
       "<table border=\"1\" class=\"dataframe\">\n",
       "  <thead>\n",
       "    <tr style=\"text-align: right;\">\n",
       "      <th></th>\n",
       "      <th>Vize</th>\n",
       "      <th>Final</th>\n",
       "      <th>Geçme Notu</th>\n",
       "    </tr>\n",
       "  </thead>\n",
       "  <tbody>\n",
       "    <tr>\n",
       "      <th>Öğrenci_1</th>\n",
       "      <td>50</td>\n",
       "      <td>80</td>\n",
       "      <td>65.0</td>\n",
       "    </tr>\n",
       "    <tr>\n",
       "      <th>Öğrenci_2</th>\n",
       "      <td>55</td>\n",
       "      <td>70</td>\n",
       "      <td>62.5</td>\n",
       "    </tr>\n",
       "    <tr>\n",
       "      <th>Öğrenci_3</th>\n",
       "      <td>45</td>\n",
       "      <td>52</td>\n",
       "      <td>48.5</td>\n",
       "    </tr>\n",
       "    <tr>\n",
       "      <th>Öğrenci_4</th>\n",
       "      <td>80</td>\n",
       "      <td>25</td>\n",
       "      <td>52.5</td>\n",
       "    </tr>\n",
       "    <tr>\n",
       "      <th>Öğrenci_5</th>\n",
       "      <td>85</td>\n",
       "      <td>45</td>\n",
       "      <td>65.0</td>\n",
       "    </tr>\n",
       "  </tbody>\n",
       "</table>\n",
       "</div>"
      ],
      "text/plain": [
       "           Vize  Final  Geçme Notu\n",
       "Öğrenci_1    50     80        65.0\n",
       "Öğrenci_2    55     70        62.5\n",
       "Öğrenci_3    45     52        48.5\n",
       "Öğrenci_4    80     25        52.5\n",
       "Öğrenci_5    85     45        65.0"
      ]
     },
     "execution_count": 22,
     "metadata": {},
     "output_type": "execute_result"
    }
   ],
   "source": [
    "my_df2.index = [\"Öğrenci_1\",\"Öğrenci_2\",\"Öğrenci_3\",\"Öğrenci_4\",\"Öğrenci_5\",]\n",
    "my_df2"
   ]
  },
  {
   "cell_type": "code",
   "execution_count": 23,
   "id": "097f8e68-8d78-4c70-b37a-fd2698a315a8",
   "metadata": {},
   "outputs": [
    {
     "data": {
      "text/html": [
       "<div>\n",
       "<style scoped>\n",
       "    .dataframe tbody tr th:only-of-type {\n",
       "        vertical-align: middle;\n",
       "    }\n",
       "\n",
       "    .dataframe tbody tr th {\n",
       "        vertical-align: top;\n",
       "    }\n",
       "\n",
       "    .dataframe thead th {\n",
       "        text-align: right;\n",
       "    }\n",
       "</style>\n",
       "<table border=\"1\" class=\"dataframe\">\n",
       "  <thead>\n",
       "    <tr style=\"text-align: right;\">\n",
       "      <th></th>\n",
       "      <th>Vize</th>\n",
       "      <th>Final</th>\n",
       "      <th>Geçme Notu</th>\n",
       "      <th>Mantıksal_Geçme</th>\n",
       "    </tr>\n",
       "  </thead>\n",
       "  <tbody>\n",
       "    <tr>\n",
       "      <th>Öğrenci_1</th>\n",
       "      <td>50</td>\n",
       "      <td>80</td>\n",
       "      <td>65.0</td>\n",
       "      <td>True</td>\n",
       "    </tr>\n",
       "    <tr>\n",
       "      <th>Öğrenci_2</th>\n",
       "      <td>55</td>\n",
       "      <td>70</td>\n",
       "      <td>62.5</td>\n",
       "      <td>True</td>\n",
       "    </tr>\n",
       "    <tr>\n",
       "      <th>Öğrenci_3</th>\n",
       "      <td>45</td>\n",
       "      <td>52</td>\n",
       "      <td>48.5</td>\n",
       "      <td>False</td>\n",
       "    </tr>\n",
       "    <tr>\n",
       "      <th>Öğrenci_4</th>\n",
       "      <td>80</td>\n",
       "      <td>25</td>\n",
       "      <td>52.5</td>\n",
       "      <td>True</td>\n",
       "    </tr>\n",
       "    <tr>\n",
       "      <th>Öğrenci_5</th>\n",
       "      <td>85</td>\n",
       "      <td>45</td>\n",
       "      <td>65.0</td>\n",
       "      <td>True</td>\n",
       "    </tr>\n",
       "  </tbody>\n",
       "</table>\n",
       "</div>"
      ],
      "text/plain": [
       "           Vize  Final  Geçme Notu  Mantıksal_Geçme\n",
       "Öğrenci_1    50     80        65.0             True\n",
       "Öğrenci_2    55     70        62.5             True\n",
       "Öğrenci_3    45     52        48.5            False\n",
       "Öğrenci_4    80     25        52.5             True\n",
       "Öğrenci_5    85     45        65.0             True"
      ]
     },
     "execution_count": 23,
     "metadata": {},
     "output_type": "execute_result"
    }
   ],
   "source": [
    "my_df2[\"Mantıksal_Geçme\"] = my_df2[\"Geçme Notu\"] > 50\n",
    "my_df2"
   ]
  },
  {
   "cell_type": "code",
   "execution_count": 24,
   "id": "df95179c-1c54-487d-8e3e-ff86f9db2598",
   "metadata": {},
   "outputs": [
    {
     "data": {
      "text/html": [
       "<div>\n",
       "<style scoped>\n",
       "    .dataframe tbody tr th:only-of-type {\n",
       "        vertical-align: middle;\n",
       "    }\n",
       "\n",
       "    .dataframe tbody tr th {\n",
       "        vertical-align: top;\n",
       "    }\n",
       "\n",
       "    .dataframe thead th {\n",
       "        text-align: right;\n",
       "    }\n",
       "</style>\n",
       "<table border=\"1\" class=\"dataframe\">\n",
       "  <thead>\n",
       "    <tr style=\"text-align: right;\">\n",
       "      <th></th>\n",
       "      <th>Vize</th>\n",
       "      <th>Final</th>\n",
       "      <th>Geçme Notu</th>\n",
       "      <th>Mantıksal_Geçme</th>\n",
       "    </tr>\n",
       "  </thead>\n",
       "  <tbody>\n",
       "    <tr>\n",
       "      <th>Öğrenci_1</th>\n",
       "      <td>50</td>\n",
       "      <td>80</td>\n",
       "      <td>65.0</td>\n",
       "      <td>True</td>\n",
       "    </tr>\n",
       "    <tr>\n",
       "      <th>Öğrenci_2</th>\n",
       "      <td>55</td>\n",
       "      <td>70</td>\n",
       "      <td>62.5</td>\n",
       "      <td>True</td>\n",
       "    </tr>\n",
       "    <tr>\n",
       "      <th>Öğrenci_3</th>\n",
       "      <td>45</td>\n",
       "      <td>52</td>\n",
       "      <td>48.5</td>\n",
       "      <td>False</td>\n",
       "    </tr>\n",
       "    <tr>\n",
       "      <th>Öğrenci_4</th>\n",
       "      <td>80</td>\n",
       "      <td>25</td>\n",
       "      <td>52.5</td>\n",
       "      <td>True</td>\n",
       "    </tr>\n",
       "    <tr>\n",
       "      <th>Öğrenci_5</th>\n",
       "      <td>85</td>\n",
       "      <td>45</td>\n",
       "      <td>65.0</td>\n",
       "      <td>True</td>\n",
       "    </tr>\n",
       "  </tbody>\n",
       "</table>\n",
       "</div>"
      ],
      "text/plain": [
       "           Vize  Final  Geçme Notu  Mantıksal_Geçme\n",
       "Öğrenci_1    50     80        65.0             True\n",
       "Öğrenci_2    55     70        62.5             True\n",
       "Öğrenci_3    45     52        48.5            False\n",
       "Öğrenci_4    80     25        52.5             True\n",
       "Öğrenci_5    85     45        65.0             True"
      ]
     },
     "execution_count": 24,
     "metadata": {},
     "output_type": "execute_result"
    }
   ],
   "source": [
    "# DataFrame'ye yeni bir sütun ekleme ==>(Adding a new column to DataFrame)\n",
    "my_df2[\"Mantıksal_Geçme\"] = [True,True,False,True,True]\n",
    "my_df2"
   ]
  },
  {
   "cell_type": "code",
   "execution_count": null,
   "id": "b76e87cb-8b76-4e90-bdef-98a9793fe739",
   "metadata": {},
   "outputs": [],
   "source": []
  }
 ],
 "metadata": {
  "kernelspec": {
   "display_name": "Python 3 (ipykernel)",
   "language": "python",
   "name": "python3"
  },
  "language_info": {
   "codemirror_mode": {
    "name": "ipython",
    "version": 3
   },
   "file_extension": ".py",
   "mimetype": "text/x-python",
   "name": "python",
   "nbconvert_exporter": "python",
   "pygments_lexer": "ipython3",
   "version": "3.11.7"
  }
 },
 "nbformat": 4,
 "nbformat_minor": 5
}
